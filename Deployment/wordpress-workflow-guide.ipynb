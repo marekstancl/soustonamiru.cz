{
 "cells": [
  {
   "cell_type": "markdown",
   "id": "992bc262",
   "metadata": {},
   "source": [
    "# WordPress Development Workflow\n",
    "## Správné nastavení DEV a PROD prostředí\n",
    "\n",
    "**Základní filozofie:** Nikdy neupravujeme produkci přímo. Vždy pracujeme přes DEV → Git → PROD workflow."
   ]
  },
  {
   "cell_type": "markdown",
   "id": "f9fad58c",
   "metadata": {},
   "source": [
    "## Krok 0: Základní myšlenka\n",
    "\n",
    "Představ si to jako práci s dokumentem:\n",
    "- **\"Živá\" verze** na firemním disku = **PRODUKCE** (hosting)\n",
    "- **Kopie** u tebe na notebooku = **DEV** (Docker)\n",
    "\n",
    "### Zlaté pravidlo:\n",
    "1. Nikdy neupravuješ živou verzi\n",
    "2. Vždy si ji nejdřív zkopíruješ k sobě\n",
    "3. U sebe děláš změny\n",
    "4. Až jsi hotový, nahradíš živou verzi tou svojí upravenou"
   ]
  },
  {
   "cell_type": "markdown",
   "id": "22fb1488",
   "metadata": {},
   "source": [
    "## Krok 1: Vytvoření identických prostředí (Startovní čára)\n",
    "\n",
    "**Cíl:** Obě prostředí musí být na začátku co nejvíce identická.\n",
    "\n",
    "### 1.1 Čistá instalace na PRODUKCI"
   ]
  },
  {
   "cell_type": "code",
   "execution_count": null,
   "id": "9e78a4c2",
   "metadata": {},
   "outputs": [],
   "source": [
    "# Na hostingu nainstaluj čistý WordPress\n",
    "# - Použij autoinstalátor hostingu\n",
    "# - Nezatěžuj se obsahem (žádné stránky, články)\n",
    "# - Toto je tvůj \"master\" obraz\n",
    "\n",
    "echo \"PRODUKCE: Čistá instalace WordPressu dokončena\"\n",
    "echo \"URL: http://soustonamiru.cz\"\n",
    "echo \"Databáze: soustonamirucz\"\n",
    "echo \"Uživatel: soustonamiruc001\"\n",
    "echo \"Heslo: 55e8rVMc\"\n",
    "echo \"Host: 127.0.0.1:3306\""
   ]
  },
  {
   "cell_type": "markdown",
   "id": "aa0c389a",
   "metadata": {},
   "source": [
    "### 1.2 Stažení souborů z produkce na DEV"
   ]
  },
  {
   "cell_type": "code",
   "execution_count": null,
   "id": "1e6dc72a",
   "metadata": {},
   "outputs": [],
   "source": [
    "# Stáhni všechny soubory z produkce\n",
    "cd /opt/www/soustonamiru.cz\n",
    "\n",
    "# Zálohuj současný stav\n",
    "mv wp-content wp-content-backup-$(date +%Y%m%d) 2>/dev/null || true\n",
    "\n",
    "# Stáhni čerstvé soubory z produkce\n",
    "sshpass -p \"qO0DvDnUPxgrLUGp@N\" scp -r soustonamiru_cz@debbie.thinline.cz:soustonamiru.cz/* .\n",
    "\n",
    "echo \"Soubory staženy z produkce\""
   ]
  },
  {
   "cell_type": "markdown",
   "id": "8878e43a",
   "metadata": {},
   "source": [
    "### 1.3 Export databáze z produkce"
   ]
  },
  {
   "cell_type": "code",
   "execution_count": null,
   "id": "bdb6c8a7",
   "metadata": {},
   "outputs": [],
   "source": [
    "# Export produkční databáze\n",
    "sshpass -p \"qO0DvDnUPxgrLUGp@N\" ssh soustonamiru_cz@debbie.thinline.cz \\\n",
    "\"mysqldump -h 127.0.0.1 -u soustonamiruc001 -p55e8rVMc soustonamirucz > prod_backup_$(date +%Y%m%d).sql\"\n",
    "\n",
    "# Stáhni si backup\n",
    "sshpass -p \"qO0DvDnUPxgrLUGp@N\" scp soustonamiru_cz@debbie.thinline.cz:prod_backup_*.sql ./\n",
    "\n",
    "echo \"Databáze exportována z produkce\""
   ]
  },
  {
   "cell_type": "markdown",
   "id": "7a4885a2",
   "metadata": {},
   "source": [
    "### 1.4 Import databáze do DEV prostředí"
   ]
  },
  {
   "cell_type": "code",
   "execution_count": null,
   "id": "eca0a671",
   "metadata": {},
   "outputs": [],
   "source": [
    "# Import do lokální databáze\n",
    "# Nejdříve zjisti název MariaDB kontejneru\n",
    "MARIADB_CONTAINER=$(docker ps --format \"table {{.Names}}\" | grep mariadb)\n",
    "\n",
    "# Import databáze\n",
    "docker exec -i $MARIADB_CONTAINER \\\n",
    "mysql -u root -proot_password wordpress < prod_backup_$(date +%Y%m%d).sql\n",
    "\n",
    "echo \"Databáze importována do DEV\""
   ]
  },
  {
   "cell_type": "markdown",
   "id": "fa734034",
   "metadata": {},
   "source": [
    "### 1.5 Úprava wp-config.php pro DEV"
   ]
  },
  {
   "cell_type": "code",
   "execution_count": null,
   "id": "4d4759f5",
   "metadata": {},
   "outputs": [],
   "source": [
    "# Vytvoř wp-config.php pro DEV prostředí\n",
    "cat > wp-config-dev.php << 'EOF'\n",
    "<?php\n",
    "// DEV prostředí\n",
    "define('DB_NAME', 'wordpress');\n",
    "define('DB_USER', 'wordpress');\n",
    "define('DB_PASSWORD', 'wordpress');\n",
    "define('DB_HOST', 'mariadb');\n",
    "define('DB_CHARSET', 'utf8mb4');\n",
    "define('DB_COLLATE', '');\n",
    "\n",
    "// Zkopíruj soli z produkční wp-config.php\n",
    "define('AUTH_KEY',         'put your unique phrase here');\n",
    "define('SECURE_AUTH_KEY',  'put your unique phrase here');\n",
    "define('LOGGED_IN_KEY',    'put your unique phrase here');\n",
    "define('NONCE_KEY',        'put your unique phrase here');\n",
    "define('AUTH_SALT',        'put your unique phrase here');\n",
    "define('SECURE_AUTH_SALT', 'put your unique phrase here');\n",
    "define('LOGGED_IN_SALT',   'put your unique phrase here');\n",
    "define('NONCE_SALT',       'put your unique phrase here');\n",
    "\n",
    "$table_prefix = 'wp_';\n",
    "define('WP_DEBUG', true);\n",
    "define('WP_DEBUG_LOG', true);\n",
    "\n",
    "if ( ! defined( 'ABSPATH' ) ) {\n",
    "\tdefine( 'ABSPATH', __DIR__ . '/' );\n",
    "}\n",
    "require_once ABSPATH . 'wp-settings.php';\n",
    "EOF\n",
    "\n",
    "# Použij DEV konfiguraci\n",
    "cp wp-config-dev.php wp-config.php\n",
    "\n",
    "echo \"wp-config.php upraven pro DEV\""
   ]
  },
  {
   "cell_type": "markdown",
   "id": "6d267ebb",
   "metadata": {},
   "source": [
    "### 1.6 Změna URL v databázi"
   ]
  },
  {
   "cell_type": "code",
   "execution_count": null,
   "id": "247b39e8",
   "metadata": {},
   "outputs": [],
   "source": [
    "# Vytvoř skript pro změnu URL\n",
    "cat > change-urls.php << 'EOF'\n",
    "<?php\n",
    "require_once('wp-config.php');\n",
    "\n",
    "// Připoj se k databázi\n",
    "$mysqli = new mysqli(DB_HOST, DB_USER, DB_PASSWORD, DB_NAME);\n",
    "\n",
    "if ($mysqli->connect_error) {\n",
    "    die('Chyba připojení: ' . $mysqli->connect_error);\n",
    "}\n",
    "\n",
    "// Změň URL z produkce na DEV\n",
    "$old_url = 'http://soustonamiru.cz';\n",
    "$new_url = 'http://localhost:8085';\n",
    "\n",
    "$queries = [\n",
    "    \"UPDATE wp_options SET option_value = '$new_url' WHERE option_name = 'home'\",\n",
    "    \"UPDATE wp_options SET option_value = '$new_url' WHERE option_name = 'siteurl'\",\n",
    "    \"UPDATE wp_posts SET post_content = REPLACE(post_content, '$old_url', '$new_url')\",\n",
    "    \"UPDATE wp_comments SET comment_content = REPLACE(comment_content, '$old_url', '$new_url')\"\n",
    "];\n",
    "\n",
    "foreach ($queries as $query) {\n",
    "    if ($mysqli->query($query)) {\n",
    "        echo \"Úspěch: $query\\n\";\n",
    "    } else {\n",
    "        echo \"Chyba: \" . $mysqli->error . \"\\n\";\n",
    "    }\n",
    "}\n",
    "\n",
    "$mysqli->close();\n",
    "echo \"URL změněny z produkce na DEV\\n\";\n",
    "?>\n",
    "EOF\n",
    "\n",
    "# Spusť změnu URL\n",
    "php change-urls.php\n",
    "\n",
    "echo \"URL změněny pro DEV prostředí\""
   ]
  },
  {
   "cell_type": "markdown",
   "id": "2eb4e849",
   "metadata": {},
   "source": [
    "## ✅ VÝSLEDEK KROKU 1\n",
    "\n",
    "Nyní máš **dvě naprosto identické kopie webu**:\n",
    "- **PRODUKCE:** http://soustonamiru.cz\n",
    "- **DEV:** http://localhost:8085\n",
    "\n",
    "**Jsi na startovní čáře!** 🏁"
   ]
  },
  {
   "cell_type": "markdown",
   "id": "d79f897d",
   "metadata": {},
   "source": [
    "## Krok 2: Správa pluginů a témat (Best Practice)\n",
    "\n",
    "**ZLATÉ PRAVIDLO:** Všechny změny kódu (pluginy, témata) děláš POUZE na DEV prostředí!\n",
    "\n",
    "### 2.1 Instalace pluginu na DEV"
   ]
  },
  {
   "cell_type": "code",
   "execution_count": null,
   "id": "93a2128e",
   "metadata": {},
   "outputs": [],
   "source": [
    "# Příklad: Instalace Wordfence pluginu na DEV\n",
    "echo \"1. Přihlaš se do administrace: http://localhost:8085/wp-admin\"\n",
    "echo \"2. Jdi do Pluginy > Přidat nový\"\n",
    "echo \"3. Vyhledej 'Wordfence' a nainstaluj\"\n",
    "echo \"4. Aktivuj a nastav plugin\"\n",
    "echo \"\"\n",
    "echo \"VÝSLEDEK: Tvůj lokální web má nový plugin. Produkce o něm zatím neví.\"\n",
    "\n",
    "# Po instalaci zkontroluj nové soubory\n",
    "ls -la wp-content/plugins/ | grep wordfence"
   ]
  },
  {
   "cell_type": "markdown",
   "id": "4e1fccaa",
   "metadata": {},
   "source": [
    "### 2.2 Commitni změny do Git"
   ]
  },
  {
   "cell_type": "code",
   "execution_count": null,
   "id": "942e82b6",
   "metadata": {},
   "outputs": [],
   "source": [
    "# Přidej nové soubory do Git\n",
    "git add wp-content/plugins/wordfence/\n",
    "git add wp-content/uploads/  # případné nové uploadované soubory\n",
    "\n",
    "# Commit s popisnou zprávou\n",
    "git commit -m \"Přidán Wordfence security plugin\"\n",
    "\n",
    "# Push do repozitáře\n",
    "git push origin main\n",
    "\n",
    "echo \"Plugin přidán do Git repozitáře\""
   ]
  },
  {
   "cell_type": "markdown",
   "id": "2f9429be",
   "metadata": {},
   "source": [
    "## Krok 3: Přenos změn z DEV na PRODUKCI\n",
    "\n",
    "**Magie Git deploymetu:** Jak dostat změny na produkci, aniž bys přepsal obsah?\n",
    "\n",
    "### 3.1 Oddělíme soubory vs. databázi\n",
    "\n",
    "- **Soubory** (pluginy, témata) → řeší **Git**\n",
    "- **Nastavení/obsah** (databáze) → řešíme **selektivní export/import**"
   ]
  },
  {
   "cell_type": "markdown",
   "id": "38fbc50e",
   "metadata": {},
   "source": [
    "### 3.2 Deployment skript"
   ]
  },
  {
   "cell_type": "code",
   "execution_count": null,
   "id": "17bd6ce6",
   "metadata": {},
   "outputs": [],
   "source": [
    "# Vytvoř deployment skript\n",
    "mkdir -p Deployment\n",
    "cat > Deployment/deploy.sh << 'EOF'\n",
    "#!/bin/bash\n",
    "\n",
    "echo \"🚀 Zahajuji deployment na produkci...\"\n",
    "\n",
    "# 1. Backup produkce\n",
    "echo \"📦 Zálohuji produkční soubory...\"\n",
    "sshpass -p \"qO0DvDnUPxgrLUGp@N\" ssh soustonamiru_cz@debbie.thinline.cz \\\n",
    "\"cd soustonamiru.cz && tar -czf backup_$(date +%Y%m%d_%H%M%S).tar.gz wp-content/\"\n",
    "\n",
    "# 2. Pull nových změn\n",
    "echo \"⬇️ Stahuji nové změny z Git...\"\n",
    "sshpass -p \"qO0DvDnUPxgrLUGp@N\" ssh soustonamiru_cz@debbie.thinline.cz \\\n",
    "\"cd soustonamiru.cz && git pull origin main\"\n",
    "\n",
    "# 3. Zkontroluj wp-config.php\n",
    "echo \"⚙️ Kontroluji wp-config.php...\"\n",
    "sshpass -p \"qO0DvDnUPxgrLUGp@N\" ssh soustonamiru_cz@debbie.thinline.cz \\\n",
    "\"cd soustonamiru.cz && cp wp-config-prod.php wp-config.php\"\n",
    "\n",
    "# 4. Nastavení práv\n",
    "echo \"🔐 Nastavuji správná práva...\"\n",
    "sshpass -p \"qO0DvDnUPxgrLUGp@N\" ssh soustonamiru_cz@debbie.thinline.cz \\\n",
    "\"cd soustonamiru.cz && chmod -R 755 wp-content/\"\n",
    "\n",
    "echo \"✅ Deployment dokončen!\"\n",
    "echo \"🌐 Zkontroluj: http://soustonamiru.cz\"\n",
    "EOF\n",
    "\n",
    "chmod +x Deployment/deploy.sh\n",
    "echo \"Deployment skript vytvořen\""
   ]
  },
  {
   "cell_type": "markdown",
   "id": "64001588",
   "metadata": {},
   "source": [
    "### 3.3 Spuštění deploymetu"
   ]
  },
  {
   "cell_type": "code",
   "execution_count": null,
   "id": "0e435511",
   "metadata": {},
   "outputs": [],
   "source": [
    "# Spusť deployment\n",
    "./Deployment/deploy.sh\n",
    "\n",
    "echo \"🎉 Plugin je nyní aktivní na produkci!\""
   ]
  },
  {
   "cell_type": "markdown",
   "id": "414eabd4",
   "metadata": {},
   "source": [
    "## Krok 4: Databázové migrace (Pokročilé)\n",
    "\n",
    "**Problém:** Plugin potřebuje také nastavení z databáze.\n",
    "\n",
    "### 4.1 Selektivní export nastavení pluginu"
   ]
  },
  {
   "cell_type": "code",
   "execution_count": null,
   "id": "973fb792",
   "metadata": {},
   "outputs": [],
   "source": [
    "# Export pouze nastavení pluginu (ne obsah!)\n",
    "cat > export-plugin-settings.php << 'EOF'\n",
    "<?php\n",
    "require_once('wp-config.php');\n",
    "\n",
    "$mysqli = new mysqli(DB_HOST, DB_USER, DB_PASSWORD, DB_NAME);\n",
    "\n",
    "// Export pouze options tabulky s nastavením Wordfence\n",
    "$result = $mysqli->query(\n",
    "    \"SELECT * FROM wp_options WHERE option_name LIKE 'wordfence%'\"\n",
    ");\n",
    "\n",
    "echo \"-- Nastavení Wordfence pluginu\\n\";\n",
    "while ($row = $result->fetch_assoc()) {\n",
    "    $name = $mysqli->real_escape_string($row['option_name']);\n",
    "    $value = $mysqli->real_escape_string($row['option_value']);\n",
    "    \n",
    "    echo \"INSERT INTO wp_options (option_name, option_value, autoload) \";\n",
    "    echo \"VALUES ('$name', '$value', '{$row['autoload']}') \";\n",
    "    echo \"ON DUPLICATE KEY UPDATE option_value='$value';\\n\";\n",
    "}\n",
    "?>\n",
    "EOF\n",
    "\n",
    "# Vygeneruj SQL soubor s nastavením\n",
    "php export-plugin-settings.php > wordfence-settings.sql\n",
    "\n",
    "echo \"Nastavení pluginu exportováno\""
   ]
  },
  {
   "cell_type": "markdown",
   "id": "b94a9ce8",
   "metadata": {},
   "source": [
    "### 4.2 Import nastavení na produkci"
   ]
  },
  {
   "cell_type": "code",
   "execution_count": null,
   "id": "3ae4199c",
   "metadata": {},
   "outputs": [],
   "source": [
    "# Nahraj a importuj nastavení\n",
    "sshpass -p \"qO0DvDnUPxgrLUGp@N\" scp wordfence-settings.sql \\\n",
    "soustonamiru_cz@debbie.thinline.cz:soustonamiru.cz/\n",
    "\n",
    "# Import do produkční databáze\n",
    "sshpass -p \"qO0DvDnUPxgrLUGp@N\" ssh soustonamiru_cz@debbie.thinline.cz \\\n",
    "\"cd soustonamiru.cz && mysql -h 127.0.0.1 -u soustonamiruc001 -p55e8rVMc soustonamirucz < wordfence-settings.sql\"\n",
    "\n",
    "echo \"Nastavení pluginu importováno na produkci\""
   ]
  },
  {
   "cell_type": "markdown",
   "id": "2294e09c",
   "metadata": {},
   "source": [
    "## 🎯 Výsledný workflow\n",
    "\n",
    "### Každodenní práce:\n",
    "\n",
    "1. **Změny POUZE na DEV** (localhost:8085)\n",
    "2. **Commit do Git** (`git add . && git commit -m \"popis změny\"`)\n",
    "3. **Push** (`git push origin main`)\n",
    "4. **Deployment** (`./Deployment/deploy.sh`)\n",
    "5. **Test na produkci** (https://soustonamiru.cz)\n",
    "\n",
    "### Výhody:\n",
    "- ✅ Nikdy neztratíš práci\n",
    "- ✅ Můžeš vrátit jakoukoliv změnu\n",
    "- ✅ Testování před nasazením\n",
    "- ✅ Automatizovaný deployment\n",
    "- ✅ Bezpečnost produkce"
   ]
  },
  {
   "cell_type": "markdown",
   "id": "32cb747a",
   "metadata": {},
   "source": [
    "## 🎯 Výsledný workflow\n",
    "\n",
    "### Každodenní práce:\n",
    "\n",
    "1. **Změny POUZE na DEV** (http://localhost:8085)\n",
    "2. **Commit do Git** (`git add . && git commit -m \"popis změny\"`)\n",
    "3. **Push** (`git push origin main`)\n",
    "4. **Deployment** (`./Deployment/deploy.sh`)\n",
    "5. **Test na produkci** (http://soustonamiru.cz)\n",
    "\n",
    "### Výhody:\n",
    "- ✅ Nikdy neztratíš práci\n",
    "- ✅ Můžeš vrátit jakoukoliv změnu\n",
    "- ✅ Testování před nasazením\n",
    "- ✅ Automatizovaný deployment\n",
    "- ✅ Bezpečnost produkce\n",
    "\n",
    "## 🚨 Důležité poznámky\n",
    "\n",
    "### Co NIKDY nedělat:\n",
    "- ❌ Neupravuj soubory přímo na produkci\n",
    "- ❌ Neinstaluj pluginy přímo na produkci\n",
    "- ❌ Nepřepisuj celou databázi na produkci\n",
    "\n",
    "### Co sledovat:\n",
    "- 📁 **Soubory:** všechny jdou přes Git\n",
    "- 🗄️ **Obsah:** (články, stránky) vzniká na produkci\n",
    "- ⚙️ **Nastavení:** selektivní migrace podle potřeby\n",
    "\n",
    "### V případě problémů:\n",
    "- 🔄 Rollback: `git revert <commit>`\n",
    "- 💾 Restore: ze záložních souborů\n",
    "- 🔍 Debug: WP_DEBUG = true na DEV"
   ]
  }
 ],
 "metadata": {
  "language_info": {
   "name": "python"
  }
 },
 "nbformat": 4,
 "nbformat_minor": 5
}
